{
 "cells": [
  {
   "cell_type": "code",
   "execution_count": 26,
   "metadata": {},
   "outputs": [],
   "source": [
    "# -*- coding: utf-8 -*-\n",
    "\"\"\"\n",
    "Created on Mon Jun 17 10:35:09 2019\n",
    "\n",
    "@author: Gary\n",
    "\"\"\"\n",
    "\n",
    "import numpy as np\n",
    "import matplotlib.pyplot as plt\n",
    "import matplotlib.animation as animation\n",
    "import matplotlib as mpl\n",
    "from matplotlib import cm\n",
    "import random\n",
    "\n",
    "def coh():\n",
    "    temp = [-1,1]\n",
    "    flipper = temp[random.randint(0,1)]\n",
    "    return flipper*np.random.beta(4,8)\n",
    "\n",
    "def DDM(inputs):\n",
    "    n_choices = inputs['n_choices']\n",
    "    evi = np.empty((n_choices,500))\n",
    "    evi[:] = np.nan\n",
    "    choice = 0\n",
    "    C2 = []\n",
    "    for n in range(n_choices):\n",
    "        k      = inputs['k']    # Scaling\n",
    "        var    = inputs['var']  # Evidence Noise\n",
    "        thresh = inputs['A']    # Evidence Threshold\n",
    "\n",
    "        C      = coh()  # Coherence\n",
    "        C2.append(C)\n",
    "\n",
    "        chosen = 0    \n",
    "        ct     = 0 # Counter\n",
    "        t      = [0]\n",
    "        while not chosen:\n",
    "            if ct >= 500:\n",
    "                break\n",
    "\n",
    "            if ct > 0:\n",
    "                evi[choice,ct] = evi[choice,ct-1]+np.random.normal(k*C,var)\n",
    "            else:\n",
    "                evi[choice,ct] = np.random.normal(k*C,var)\n",
    "\n",
    "            t.append(1*ct)\n",
    "            if abs(evi[choice,ct]) > thresh:\n",
    "                chosen = 1\n",
    "            else:\n",
    "                ct += 1\n",
    "\n",
    "        choice += 1\n",
    "    output = {\n",
    "        'evi': evi,\n",
    "        't': t,\n",
    "        'C2': C2\n",
    "    }\n",
    "    return(output)\n",
    "    \n",
    "inputs = {\n",
    "    'n_choices': 10,\n",
    "    'k': 2,\n",
    "    'var': 1,\n",
    "    'A': 100\n",
    "}\n",
    "\n",
    "output = DDM(inputs)\n",
    "    "
   ]
  },
  {
   "cell_type": "code",
   "execution_count": 27,
   "metadata": {},
   "outputs": [
    {
     "data": {
      "text/plain": [
       "array([[ 2.061272  ,  2.58089591,  3.14970696, ...,         nan,\n",
       "                nan,         nan],\n",
       "       [-1.87455357, -4.10134365, -7.6793058 , ...,         nan,\n",
       "                nan,         nan],\n",
       "       [-0.88496744, -1.69955259, -3.34510287, ...,         nan,\n",
       "                nan,         nan],\n",
       "       ...,\n",
       "       [-1.34220921, -0.15735729, -1.95133426, ...,         nan,\n",
       "                nan,         nan],\n",
       "       [ 0.66689471, -0.9322698 , -2.98487381, ...,         nan,\n",
       "                nan,         nan],\n",
       "       [ 1.85750015,  1.95365832,  3.69350176, ...,         nan,\n",
       "                nan,         nan]])"
      ]
     },
     "execution_count": 27,
     "metadata": {},
     "output_type": "execute_result"
    }
   ],
   "source": [
    "evi"
   ]
  },
  {
   "cell_type": "code",
   "execution_count": 17,
   "metadata": {},
   "outputs": [
    {
     "ename": "TypeError",
     "evalue": "'NoneType' object is not subscriptable",
     "output_type": "error",
     "traceback": [
      "\u001b[1;31m---------------------------------------------------------------------------\u001b[0m",
      "\u001b[1;31mTypeError\u001b[0m                                 Traceback (most recent call last)",
      "\u001b[1;32m<ipython-input-17-7dc0e49f351d>\u001b[0m in \u001b[0;36m<module>\u001b[1;34m()\u001b[0m\n\u001b[0;32m     72\u001b[0m \u001b[1;33m\u001b[0m\u001b[0m\n\u001b[0;32m     73\u001b[0m \u001b[1;31m# C2 = np.abs(C2)\u001b[0m\u001b[1;33m\u001b[0m\u001b[1;33m\u001b[0m\u001b[0m\n\u001b[1;32m---> 74\u001b[1;33m \u001b[0mC2\u001b[0m \u001b[1;33m=\u001b[0m \u001b[1;33m[\u001b[0m\u001b[0mabs\u001b[0m\u001b[1;33m(\u001b[0m\u001b[0mx\u001b[0m\u001b[1;33m)\u001b[0m \u001b[1;32mfor\u001b[0m \u001b[0mx\u001b[0m \u001b[1;32min\u001b[0m \u001b[0moutput\u001b[0m\u001b[1;33m[\u001b[0m\u001b[1;34m'C2'\u001b[0m\u001b[1;33m]\u001b[0m\u001b[1;33m]\u001b[0m\u001b[1;33m\u001b[0m\u001b[0m\n\u001b[0m\u001b[0;32m     75\u001b[0m \u001b[1;31m# for k in range(len(C2)): # [0,1,2,3,...,len(C2)]\u001b[0m\u001b[1;33m\u001b[0m\u001b[1;33m\u001b[0m\u001b[0m\n\u001b[0;32m     76\u001b[0m \u001b[1;31m#     C2[k] = abs(C2[k])\u001b[0m\u001b[1;33m\u001b[0m\u001b[1;33m\u001b[0m\u001b[0m\n",
      "\u001b[1;31mTypeError\u001b[0m: 'NoneType' object is not subscriptable"
     ]
    },
    {
     "data": {
      "image/png": "[encoded data removed]",
      "text/plain": [
       "<Figure size 432x288 with 1 Axes>"
      ]
     },
     "metadata": {
      "needs_background": "light"
     },
     "output_type": "display_data"
    }
   ],
   "source": [
    "fig, ax = plt.subplots()\n",
    "ax.set_xlabel('Time [n]')\n",
    "ax.set_ylabel('Evidence')\n",
    "ax.title.set_text('Single DDM Actor')\n",
    "\n",
    "# C2 = np.abs(C2)\n",
    "C2 = [abs(x) for x in output['C2']]\n",
    "# for k in range(len(C2)): # [0,1,2,3,...,len(C2)]\n",
    "#     C2[k] = abs(C2[k])\n",
    "\n",
    "lines = ax.plot(output['evi'].T)\n",
    "blank = [ax.lines[i].set_color(cm.viridis(color)) for i, color in enumerate(C2)]"
   ]
  },
  {
   "cell_type": "code",
   "execution_count": null,
   "metadata": {},
   "outputs": [],
   "source": []
  }
 ],
 "metadata": {
  "kernelspec": {
   "display_name": "Python 3",
   "language": "python",
   "name": "python3"
  },
  "language_info": {
   "codemirror_mode": {
    "name": "ipython",
    "version": 3
   },
   "file_extension": ".py",
   "mimetype": "text/x-python",
   "name": "python",
   "nbconvert_exporter": "python",
   "pygments_lexer": "ipython3",
   "version": "3.7.0"
  }
 },
 "nbformat": 4,
 "nbformat_minor": 2
}
